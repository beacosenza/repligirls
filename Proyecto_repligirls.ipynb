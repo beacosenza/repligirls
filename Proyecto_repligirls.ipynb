{
 "cells": [
  {
   "cell_type": "markdown",
   "id": "5a043042-501c-4f39-a99e-29c7dcafecad",
   "metadata": {},
   "source": [
    "# Estudio de evolución temporal de aftershocks"
   ]
  },
  {
   "cell_type": "markdown",
   "id": "7f392419-f2b7-4ee2-b966-d02cf0479712",
   "metadata": {},
   "source": [
    "Descripción del proyecto"
   ]
  },
  {
   "cell_type": "markdown",
   "id": "8ecbfd05-b248-4b25-ae76-4528b898c62e",
   "metadata": {},
   "source": [
    "1. Descargar los datos\n",
    "\n",
    "link de google drive"
   ]
  },
  {
   "cell_type": "code",
   "execution_count": 1,
   "id": "46f44f46-7fe7-4c7e-886f-eeec857b92b6",
   "metadata": {},
   "outputs": [],
   "source": [
    "#https://drive.google.com/file/d/1Vh6umk8AlTCU5XEdpiRRjpy8N9gl3li0/view?usp=share_link"
   ]
  },
  {
   "cell_type": "markdown",
   "id": "4a177bd0-f7d5-46ab-a011-6355ea6d0551",
   "metadata": {},
   "source": [
    "Para bajarlo se usa un link modificado"
   ]
  },
  {
   "cell_type": "code",
   "execution_count": 2,
   "id": "25c32476-d3e3-4157-9925-fcc2943033db",
   "metadata": {},
   "outputs": [],
   "source": [
    "#!gdown https://drive.google.com/uc?id=1Vh6umk8AlTCU5XEdpiRRjpy8N9gl3li0"
   ]
  },
  {
   "cell_type": "code",
   "execution_count": null,
   "id": "bf1b7e6a-8274-4771-b0d1-8604382c610f",
   "metadata": {},
   "outputs": [],
   "source": [
    "Descomprimir el archivo"
   ]
  },
  {
   "cell_type": "code",
   "execution_count": 3,
   "id": "75737eb9-3f8c-46fd-b2de-885565732077",
   "metadata": {},
   "outputs": [
    {
     "name": "stdout",
     "output_type": "stream",
     "text": [
      "Proyecto_repligirls.ipynb  README.md  test.txt\n"
     ]
    }
   ],
   "source": [
    "#unzip SPUD_bundle_2023-03-28T14.29.00.zip "
   ]
  },
  {
   "cell_type": "markdown",
   "id": "b359d89f-ebaa-45cb-8957-d58bac950526",
   "metadata": {},
   "source": [
    "Leer archivos"
   ]
  },
  {
   "cell_type": "code",
   "execution_count": 100,
   "id": "5e816d98-4645-46f1-8b28-c5b39b42ef95",
   "metadata": {},
   "outputs": [],
   "source": [
    "import numpy as np\n",
    "import pandas as pd"
   ]
  },
  {
   "cell_type": "code",
   "execution_count": 89,
   "id": "1bfbf70c-878e-40b0-aaaa-5f64dd8264dc",
   "metadata": {},
   "outputs": [],
   "source": [
    "#archivo de prueba\n",
    "#folder=\"SPUD_bundle_2023-03-28T14.29.00\"\n",
    "#pr_file=\"Aftershocks_14211086/f\"{*}.txt\"\n",
    "#file_name=folder+\"/\"+pr_file \n"
   ]
  },
  {
   "cell_type": "code",
   "execution_count": 101,
   "id": "474a35a2-a3b6-4e35-a49d-f6368b966a49",
   "metadata": {},
   "outputs": [],
   "source": [
    "import fnmatch\n",
    "import os\n",
    "\n",
    "#encontrar archivo de texto con los aftershocks\n",
    "#for file in os.listdir(\"SPUD_bundle_2023-03-28T14.29.00/Aftershocks_14211086\"):\n",
    "#    if fnmatch.fnmatch(file, '*.txt'):\n",
    "#        print(file)\n",
    "#        tx_file=file\n",
    "        \n",
    "#type(tx_file)"
   ]
  },
  {
   "cell_type": "code",
   "execution_count": 102,
   "id": "797d9352-5fde-4369-a4c0-6e15b5f7a191",
   "metadata": {},
   "outputs": [],
   "source": [
    "list_files=[]\n",
    "\n",
    "for file in os.listdir(\"SPUD_bundle_2023-03-28T14.29.00\"):\n",
    "    for i in os.listdir(\"SPUD_bundle_2023-03-28T14.29.00\"+\"/\"+file):\n",
    "        if fnmatch.fnmatch(i, '*.txt'):\n",
    "            #print(i)\n",
    "     #   tx_file=file\n",
    "            list_files.append(\"SPUD_bundle_2023-03-28T14.29.00\"+\"/\"+file+\"/\"+i)"
   ]
  },
  {
   "cell_type": "code",
   "execution_count": 103,
   "id": "2681a57d-8a96-4d29-b691-b247b5bf9a6c",
   "metadata": {},
   "outputs": [
    {
     "data": {
      "text/plain": [
       "['SPUD_bundle_2023-03-28T14.29.00/Aftershocks_9758777/1991.11.19.22.28.EventsList.txt',\n",
       " 'SPUD_bundle_2023-03-28T14.29.00/Aftershocks_9755194/2001.07.07.09.38.EventsList.txt',\n",
       " 'SPUD_bundle_2023-03-28T14.29.00/Aftershocks_9760801/2011.01.02.20.20.EventsList.txt',\n",
       " 'SPUD_bundle_2023-03-28T14.29.00/Aftershocks_10089367/2015.09.16.22.54.EventsList.txt',\n",
       " 'SPUD_bundle_2023-03-28T14.29.00/Aftershocks_9762363/1983.12.02.03.09.EventsList.txt',\n",
       " 'SPUD_bundle_2023-03-28T14.29.00/Aftershocks_9756271/1987.03.05.09.17.EventsList.txt',\n",
       " 'SPUD_bundle_2023-03-28T14.29.00/Aftershocks_9754292/2005.06.13.22.44.EventsList.txt',\n",
       " 'SPUD_bundle_2023-03-28T14.29.00/Aftershocks_11519080/2016.04.16.23.58.EventsList.txt',\n",
       " 'SPUD_bundle_2023-03-28T14.29.00/Aftershocks_9757963/2012.08.27.04.37.EventsList.txt',\n",
       " 'SPUD_bundle_2023-03-28T14.29.00/Aftershocks_9753523/1994.06.09.00.33.EventsList.txt',\n",
       " 'SPUD_bundle_2023-03-28T14.29.00/Aftershocks_9762099/2010.01.12.21.53.EventsList.txt',\n",
       " 'SPUD_bundle_2023-03-28T14.29.00/Aftershocks_9761373/1998.01.30.12.16.EventsList.txt',\n",
       " 'SPUD_bundle_2023-03-28T14.29.00/Aftershocks_9755853/2003.01.22.02.06.EventsList.txt',\n",
       " 'SPUD_bundle_2023-03-28T14.29.00/Aftershocks_9759239/1992.10.18.15.11.EventsList.txt',\n",
       " 'SPUD_bundle_2023-03-28T14.29.00/Aftershocks_9757633/2009.05.28.08.24.EventsList.txt',\n",
       " 'SPUD_bundle_2023-03-28T14.29.00/Aftershocks_9753699/2014.04.01.23.46.EventsList.txt',\n",
       " 'SPUD_bundle_2023-03-28T14.29.00/Aftershocks_9760933/2012.03.25.22.37.EventsList.txt',\n",
       " 'SPUD_bundle_2023-03-28T14.29.00/Aftershocks_9759503/1997.01.23.02.15.EventsList.txt',\n",
       " 'SPUD_bundle_2023-03-28T14.29.00/Aftershocks_9755919/2005.09.26.01.55.EventsList.txt',\n",
       " 'SPUD_bundle_2023-03-28T14.29.00/Aftershocks_16619339/2018.08.24.09.04.EventsList.txt',\n",
       " 'SPUD_bundle_2023-03-28T14.29.00/Aftershocks_14211086/2017.09.08.04.49.EventsList.txt',\n",
       " 'SPUD_bundle_2023-03-28T14.29.00/Aftershocks_14211086/2017.09.08.04.49.EventsList_copy.txt',\n",
       " 'SPUD_bundle_2023-03-28T14.29.00/Aftershocks_9760515/1985.04.09.01.57.EventsList.txt',\n",
       " 'SPUD_bundle_2023-03-28T14.29.00/Aftershocks_9756799/2010.02.27.08.01.EventsList.txt',\n",
       " 'SPUD_bundle_2023-03-28T14.29.00/Aftershocks_9760317/1981.10.16.03.25.EventsList.txt',\n",
       " 'SPUD_bundle_2023-03-28T14.29.00/Aftershocks_9756029/1996.02.21.12.51.EventsList.txt',\n",
       " 'SPUD_bundle_2023-03-28T14.29.00/Aftershocks_9762757/2011.08.24.17.46.EventsList.txt',\n",
       " 'SPUD_bundle_2023-03-28T14.29.00/Aftershocks_9758029/2014.04.18.14.27.EventsList.txt',\n",
       " 'SPUD_bundle_2023-03-28T14.29.00/Aftershocks_9756337/2012.03.20.18.02.EventsList.txt',\n",
       " 'SPUD_bundle_2023-03-28T14.29.00/Aftershocks_9753831/1985.09.19.13.17.EventsList.txt',\n",
       " 'SPUD_bundle_2023-03-28T14.29.00/Aftershocks_9762691/2011.01.01.09.56.EventsList.txt',\n",
       " 'SPUD_bundle_2023-03-28T14.29.00/Aftershocks_9757149/2012.11.07.16.35.EventsList.txt',\n",
       " 'SPUD_bundle_2023-03-28T14.29.00/Aftershocks_18256938/2020.06.23.15.29.EventsList.txt',\n",
       " 'SPUD_bundle_2023-03-28T14.29.00/Aftershocks_9757545/1990.03.25.13.22.EventsList.txt',\n",
       " 'SPUD_bundle_2023-03-28T14.29.00/Aftershocks_9755699/2012.09.05.14.42.EventsList.txt',\n",
       " 'SPUD_bundle_2023-03-28T14.29.00/Aftershocks_9755611/1983.10.04.18.52.EventsList.txt',\n",
       " 'SPUD_bundle_2023-03-28T14.29.00/Aftershocks_9755040/2014.04.03.02.43.EventsList.txt',\n",
       " 'SPUD_bundle_2023-03-28T14.29.00/Aftershocks_9760119/1998.08.04.18.59.EventsList.txt',\n",
       " 'SPUD_bundle_2023-03-28T14.29.00/Aftershocks_9759437/1996.02.25.03.08.EventsList.txt',\n",
       " 'SPUD_bundle_2023-03-28T14.29.00/Aftershocks_10731420/2015.11.24.22.45.EventsList.txt',\n",
       " 'SPUD_bundle_2023-03-28T14.29.00/Aftershocks_9762955/2014.04.01.23.57.EventsList.txt',\n",
       " 'SPUD_bundle_2023-03-28T14.29.00/Aftershocks_9760207/2010.08.12.11.54.EventsList.txt',\n",
       " 'SPUD_bundle_2023-03-28T14.29.00/Aftershocks_9762143/2010.03.11.14.55.EventsList.txt',\n",
       " 'SPUD_bundle_2023-03-28T14.29.00/Aftershocks_9756227/1985.09.21.01.37.EventsList.txt',\n",
       " 'SPUD_bundle_2023-03-28T14.29.00/Aftershocks_9754644/1996.11.12.16.59.EventsList.txt',\n",
       " 'SPUD_bundle_2023-03-28T14.29.00/Aftershocks_9758051/2014.10.14.03.51.EventsList.txt',\n",
       " 'SPUD_bundle_2023-03-28T14.29.00/Aftershocks_9757281/1995.09.14.14.04.EventsList.txt',\n",
       " 'SPUD_bundle_2023-03-28T14.29.00/Aftershocks_9757787/1985.03.04.00.32.EventsList.txt',\n",
       " 'SPUD_bundle_2023-03-28T14.29.00/Aftershocks_13312286/2016.11.24.18.43.EventsList.txt',\n",
       " 'SPUD_bundle_2023-03-28T14.29.00/Aftershocks_9759679/2000.05.12.18.43.EventsList.txt',\n",
       " 'SPUD_bundle_2023-03-28T14.29.00/Aftershocks_9762647/1988.01.19.07.30.EventsList.txt',\n",
       " 'SPUD_bundle_2023-03-28T14.29.00/Aftershocks_16611955/2018.08.21.21.31.EventsList.txt',\n",
       " 'SPUD_bundle_2023-03-28T14.29.00/Aftershocks_13354488/2016.12.25.14.22.EventsList.txt',\n",
       " 'SPUD_bundle_2023-03-28T14.29.00/Aftershocks_9762406/1983.04.12.12.07.EventsList.txt',\n",
       " 'SPUD_bundle_2023-03-28T14.29.00/Aftershocks_9753809/2007.08.15.23.40.EventsList.txt',\n",
       " 'SPUD_bundle_2023-03-28T14.29.00/Aftershocks_10731916/2015.11.24.22.50.EventsList.txt',\n",
       " 'SPUD_bundle_2023-03-28T14.29.00/Aftershocks_9762033/1995.10.03.01.51.EventsList.txt',\n",
       " 'SPUD_bundle_2023-03-28T14.29.00/Aftershocks_9762933/2013.09.25.16.42.EventsList.txt',\n",
       " 'SPUD_bundle_2023-03-28T14.29.00/Aftershocks_9758931/1981.10.25.03.22.EventsList.txt',\n",
       " 'SPUD_bundle_2023-03-28T14.29.00/Aftershocks_9754007/1985.03.03.22.47.EventsList.txt',\n",
       " 'SPUD_bundle_2023-03-28T14.29.00/Aftershocks_17616543/2019.05.26.07.41.EventsList.txt',\n",
       " 'SPUD_bundle_2023-03-28T14.29.00/Aftershocks_9753721/1995.10.09.15.35.EventsList.txt',\n",
       " 'SPUD_bundle_2023-03-28T14.29.00/Aftershocks_9760735/1988.04.12.23.19.EventsList.txt',\n",
       " 'SPUD_bundle_2023-03-28T14.29.00/Aftershocks_9760273/1980.10.24.14.53.EventsList.txt',\n",
       " 'SPUD_bundle_2023-03-28T14.29.00/Aftershocks_14285796/2017.09.19.18.14.EventsList.txt',\n",
       " 'SPUD_bundle_2023-03-28T14.29.00/Aftershocks_9753325/2010.02.27.06.34.EventsList.txt',\n",
       " 'SPUD_bundle_2023-03-28T14.29.00/Aftershocks_9759547/1997.10.15.01.03.EventsList.txt',\n",
       " 'SPUD_bundle_2023-03-28T14.29.00/Aftershocks_9760625/1987.03.06.04.10.EventsList.txt',\n",
       " 'SPUD_bundle_2023-03-28T14.29.00/Aftershocks_9754820/2007.11.14.15.40.EventsList.txt',\n",
       " 'SPUD_bundle_2023-03-28T14.29.00/Aftershocks_9760757/1989.05.05.18.28.EventsList.txt',\n",
       " 'SPUD_bundle_2023-03-28T14.29.00/Aftershocks_9758271/1995.10.21.02.38.EventsList.txt',\n",
       " 'SPUD_bundle_2023-03-28T14.29.00/Aftershocks_13507921/2017.04.24.21.38.EventsList.txt',\n",
       " 'SPUD_bundle_2023-03-28T14.29.00/Aftershocks_9756535/1999.09.30.16.31.EventsList.txt',\n",
       " 'SPUD_bundle_2023-03-28T14.29.00/Aftershocks_9753413/2001.06.23.20.33.EventsList.txt',\n",
       " 'SPUD_bundle_2023-03-28T14.29.00/Aftershocks_9755436/1991.04.22.21.56.EventsList.txt',\n",
       " 'SPUD_bundle_2023-03-28T14.29.00/Aftershocks_9758491/2004.11.15.09.06.EventsList.txt',\n",
       " 'SPUD_bundle_2023-03-28T14.29.00/Aftershocks_9759107/1987.08.08.15.48.EventsList.txt',\n",
       " 'SPUD_bundle_2023-03-28T14.29.00/Aftershocks_9755062/1992.09.02.00.16.EventsList.txt',\n",
       " 'SPUD_bundle_2023-03-28T14.29.00/Aftershocks_18029953/2020.01.28.19.10.EventsList.txt',\n",
       " 'SPUD_bundle_2023-03-28T14.29.00/Aftershocks_16315042/2018.01.14.09.18.EventsList.txt',\n",
       " 'SPUD_bundle_2023-03-28T14.29.00/Aftershocks_9754732/2001.01.13.17.33.EventsList.txt',\n",
       " 'SPUD_bundle_2023-03-28T14.29.00/Aftershocks_9756667/2007.11.29.19.00.EventsList.txt',\n",
       " 'SPUD_bundle_2023-03-28T14.29.00/Aftershocks_9759481/1997.01.11.20.28.EventsList.txt',\n",
       " 'SPUD_bundle_2023-03-28T14.29.00/Aftershocks_16296406/2018.01.10.02.51.EventsList.txt',\n",
       " 'SPUD_bundle_2023-03-28T14.29.00/Aftershocks_9756930/1983.04.03.02.50.EventsList.txt',\n",
       " 'SPUD_bundle_2023-03-28T14.29.00/Aftershocks_9753743/1995.07.30.05.11.EventsList.txt',\n",
       " 'SPUD_bundle_2023-03-28T14.29.00/Aftershocks_9757765/1982.06.19.06.21.EventsList.txt',\n",
       " 'SPUD_bundle_2023-03-28T14.29.00/Aftershocks_16361133/2018.02.16.23.39.EventsList.txt',\n",
       " 'SPUD_bundle_2023-03-28T14.29.00/Aftershocks_9760691/1988.02.05.14.01.EventsList.txt',\n",
       " 'SPUD_bundle_2023-03-28T14.29.00/Aftershocks_9758183/1993.09.10.19.12.EventsList.txt']"
      ]
     },
     "execution_count": 103,
     "metadata": {},
     "output_type": "execute_result"
    }
   ],
   "source": [
    "list_files"
   ]
  },
  {
   "cell_type": "code",
   "execution_count": 67,
   "id": "b73f4f71-5ea9-41ba-9db1-41379f209eb9",
   "metadata": {},
   "outputs": [],
   "source": [
    "#os.chdir(\"SPUD_bundle_2023-03-28T14.29.00/Aftershocks_14211086/\")\n",
    "for tx_file in list_files:\n",
    "    open(tx_file,'r') as data:\n",
    "        plaintext=data.read()\n",
    "    plaintext=plaintext.replace(\",us\",\"\")\n",
    "    with open(tx_file[:-4]+\"_copy.txt\", 'w') as f:\n",
    "        f.write(plaintext)"
   ]
  },
  {
   "cell_type": "code",
   "execution_count": 104,
   "id": "fbed9e8d-5c45-454f-8ef6-9eebe67a998f",
   "metadata": {},
   "outputs": [],
   "source": [
    "#\n",
    "#os.chdir(\"SPUD_bundle_2023-03-28T14.29.00/Aftershocks_14211086/\")\n",
    "#for tx_file in list_files:\n",
    "data=open(\"SPUD_bundle_2023-03-28T14.29.00/Aftershocks_14211086/2017.09.08.04.49.EventsList.txt\",'r')\n",
    "plaintext=data.read()\n",
    "plaintext=plaintext.replace(\",us\",\"\")\n",
    "\n",
    "with open(\"SPUD_bundle_2023-03-28T14.29.00/Aftershocks_14211086/2017.09.08.04.49.EventsList.txt_copy.txt\", 'w') as f:\n",
    "    f.write(plaintext)"
   ]
  },
  {
   "cell_type": "code",
   "execution_count": 93,
   "id": "280e0760-7575-4786-963c-eeb81fcb8cd2",
   "metadata": {},
   "outputs": [],
   "source": [
    "#print(tx_file[:-4]+\"_copy.txt\")"
   ]
  },
  {
   "cell_type": "code",
   "execution_count": 105,
   "id": "32ca3050-566a-4b8a-9a34-8a784d636f62",
   "metadata": {},
   "outputs": [
    {
     "data": {
      "text/html": [
       "<div>\n",
       "<style scoped>\n",
       "    .dataframe tbody tr th:only-of-type {\n",
       "        vertical-align: middle;\n",
       "    }\n",
       "\n",
       "    .dataframe tbody tr th {\n",
       "        vertical-align: top;\n",
       "    }\n",
       "\n",
       "    .dataframe thead th {\n",
       "        text-align: right;\n",
       "    }\n",
       "</style>\n",
       "<table border=\"1\" class=\"dataframe\">\n",
       "  <thead>\n",
       "    <tr style=\"text-align: right;\">\n",
       "      <th></th>\n",
       "      <th>0</th>\n",
       "      <th>1</th>\n",
       "      <th>2</th>\n",
       "      <th>3</th>\n",
       "      <th>4</th>\n",
       "      <th>5</th>\n",
       "      <th>6</th>\n",
       "      <th>7</th>\n",
       "      <th>8</th>\n",
       "      <th>9</th>\n",
       "    </tr>\n",
       "  </thead>\n",
       "  <tbody>\n",
       "    <tr>\n",
       "      <th>0</th>\n",
       "      <td>10399096</td>\n",
       "      <td>2017/08/31 05:48:33.270</td>\n",
       "      <td>13.7890</td>\n",
       "      <td>-91.4437</td>\n",
       "      <td>35.00</td>\n",
       "      <td>us</td>\n",
       "      <td>NEIC PDE</td>\n",
       "      <td>us2000addm</td>\n",
       "      <td>mb,5.0</td>\n",
       "      <td>NEAR COAST OF GUATEMALA</td>\n",
       "    </tr>\n",
       "    <tr>\n",
       "      <th>1</th>\n",
       "      <td>10399102</td>\n",
       "      <td>2017/08/31 07:08:41.500</td>\n",
       "      <td>13.9847</td>\n",
       "      <td>-91.4547</td>\n",
       "      <td>26.63</td>\n",
       "      <td>us</td>\n",
       "      <td>NEIC PDE</td>\n",
       "      <td>us2000ade2</td>\n",
       "      <td>mb,4.3</td>\n",
       "      <td>NEAR COAST OF GUATEMALA</td>\n",
       "    </tr>\n",
       "    <tr>\n",
       "      <th>2</th>\n",
       "      <td>10399105</td>\n",
       "      <td>2017/08/31 06:45:24.130</td>\n",
       "      <td>13.8795</td>\n",
       "      <td>-91.4642</td>\n",
       "      <td>35.00</td>\n",
       "      <td>us</td>\n",
       "      <td>NEIC PDE</td>\n",
       "      <td>us2000ade4</td>\n",
       "      <td>mb,4.2</td>\n",
       "      <td>NEAR COAST OF GUATEMALA</td>\n",
       "    </tr>\n",
       "    <tr>\n",
       "      <th>3</th>\n",
       "      <td>10401240</td>\n",
       "      <td>2017/09/05 19:17:39.310</td>\n",
       "      <td>15.0794</td>\n",
       "      <td>-93.8775</td>\n",
       "      <td>50.22</td>\n",
       "      <td>us</td>\n",
       "      <td>NEIC PDE</td>\n",
       "      <td>us2000ag9g</td>\n",
       "      <td>mb,4.5</td>\n",
       "      <td>NEAR COAST OF CHIAPAS, MEXICO</td>\n",
       "    </tr>\n",
       "    <tr>\n",
       "      <th>4</th>\n",
       "      <td>10401649</td>\n",
       "      <td>2017/09/07 07:05:24.660</td>\n",
       "      <td>15.0132</td>\n",
       "      <td>-93.8108</td>\n",
       "      <td>10.00</td>\n",
       "      <td>us</td>\n",
       "      <td>NEIC PDE</td>\n",
       "      <td>us2000ahe0</td>\n",
       "      <td>mb,4.4</td>\n",
       "      <td>NEAR COAST OF CHIAPAS, MEXICO</td>\n",
       "    </tr>\n",
       "    <tr>\n",
       "      <th>...</th>\n",
       "      <td>...</td>\n",
       "      <td>...</td>\n",
       "      <td>...</td>\n",
       "      <td>...</td>\n",
       "      <td>...</td>\n",
       "      <td>...</td>\n",
       "      <td>...</td>\n",
       "      <td>...</td>\n",
       "      <td>...</td>\n",
       "      <td>...</td>\n",
       "    </tr>\n",
       "    <tr>\n",
       "      <th>181</th>\n",
       "      <td>10402559</td>\n",
       "      <td>2017/09/09 04:54:53.900</td>\n",
       "      <td>15.1700</td>\n",
       "      <td>-94.1800</td>\n",
       "      <td>16.80</td>\n",
       "      <td>GCMT</td>\n",
       "      <td>GCMT</td>\n",
       "      <td>GCMT,C201709090454A</td>\n",
       "      <td>MW,5.7</td>\n",
       "      <td>NEAR COAST OF OAXACA, MEXICO</td>\n",
       "    </tr>\n",
       "    <tr>\n",
       "      <th>182</th>\n",
       "      <td>10402843</td>\n",
       "      <td>2017/09/10 03:07:26.800</td>\n",
       "      <td>15.5400</td>\n",
       "      <td>-94.7000</td>\n",
       "      <td>28.70</td>\n",
       "      <td>GCMT</td>\n",
       "      <td>GCMT</td>\n",
       "      <td>GCMT,C201709100307A</td>\n",
       "      <td>MW,5.8</td>\n",
       "      <td>NEAR COAST OF OAXACA, MEXICO</td>\n",
       "    </tr>\n",
       "    <tr>\n",
       "      <th>183</th>\n",
       "      <td>10403482</td>\n",
       "      <td>2017/09/11 21:09:13.200</td>\n",
       "      <td>14.9600</td>\n",
       "      <td>-94.1000</td>\n",
       "      <td>25.70</td>\n",
       "      <td>GCMT</td>\n",
       "      <td>GCMT</td>\n",
       "      <td>GCMT,C201709112109A</td>\n",
       "      <td>MW,5.5</td>\n",
       "      <td>OFF COAST OF CHIAPAS, MEXICO</td>\n",
       "    </tr>\n",
       "    <tr>\n",
       "      <th>184</th>\n",
       "      <td>10403623</td>\n",
       "      <td>2017/09/12 05:08:46.300</td>\n",
       "      <td>15.2100</td>\n",
       "      <td>-94.0200</td>\n",
       "      <td>33.50</td>\n",
       "      <td>GCMT</td>\n",
       "      <td>GCMT</td>\n",
       "      <td>GCMT,C201709120508A</td>\n",
       "      <td>MW,5.5</td>\n",
       "      <td>NEAR COAST OF OAXACA, MEXICO</td>\n",
       "    </tr>\n",
       "    <tr>\n",
       "      <th>185</th>\n",
       "      <td>10402114</td>\n",
       "      <td>2017/09/08 04:49:44.200</td>\n",
       "      <td>15.3400</td>\n",
       "      <td>-94.6200</td>\n",
       "      <td>50.20</td>\n",
       "      <td>GCMT</td>\n",
       "      <td>GCMT</td>\n",
       "      <td>GCMT,C201709080449A</td>\n",
       "      <td>MW,8.2</td>\n",
       "      <td>NEAR COAST OF OAXACA, MEXICO</td>\n",
       "    </tr>\n",
       "  </tbody>\n",
       "</table>\n",
       "<p>186 rows × 10 columns</p>\n",
       "</div>"
      ],
      "text/plain": [
       "            0                         1        2        3      4     5  \\\n",
       "0    10399096  2017/08/31 05:48:33.270   13.7890 -91.4437  35.00    us   \n",
       "1    10399102  2017/08/31 07:08:41.500   13.9847 -91.4547  26.63    us   \n",
       "2    10399105  2017/08/31 06:45:24.130   13.8795 -91.4642  35.00    us   \n",
       "3    10401240  2017/09/05 19:17:39.310   15.0794 -93.8775  50.22    us   \n",
       "4    10401649  2017/09/07 07:05:24.660   15.0132 -93.8108  10.00    us   \n",
       "..        ...                       ...      ...      ...    ...   ...   \n",
       "181  10402559  2017/09/09 04:54:53.900   15.1700 -94.1800  16.80  GCMT   \n",
       "182  10402843  2017/09/10 03:07:26.800   15.5400 -94.7000  28.70  GCMT   \n",
       "183  10403482  2017/09/11 21:09:13.200   14.9600 -94.1000  25.70  GCMT   \n",
       "184  10403623  2017/09/12 05:08:46.300   15.2100 -94.0200  33.50  GCMT   \n",
       "185  10402114  2017/09/08 04:49:44.200   15.3400 -94.6200  50.20  GCMT   \n",
       "\n",
       "            6                    7       8                              9  \n",
       "0    NEIC PDE           us2000addm  mb,5.0        NEAR COAST OF GUATEMALA  \n",
       "1    NEIC PDE           us2000ade2  mb,4.3        NEAR COAST OF GUATEMALA  \n",
       "2    NEIC PDE           us2000ade4  mb,4.2        NEAR COAST OF GUATEMALA  \n",
       "3    NEIC PDE           us2000ag9g  mb,4.5  NEAR COAST OF CHIAPAS, MEXICO  \n",
       "4    NEIC PDE           us2000ahe0  mb,4.4  NEAR COAST OF CHIAPAS, MEXICO  \n",
       "..        ...                  ...     ...                            ...  \n",
       "181      GCMT  GCMT,C201709090454A  MW,5.7   NEAR COAST OF OAXACA, MEXICO  \n",
       "182      GCMT  GCMT,C201709100307A  MW,5.8   NEAR COAST OF OAXACA, MEXICO  \n",
       "183      GCMT  GCMT,C201709112109A  MW,5.5   OFF COAST OF CHIAPAS, MEXICO  \n",
       "184      GCMT  GCMT,C201709120508A  MW,5.5   NEAR COAST OF OAXACA, MEXICO  \n",
       "185      GCMT  GCMT,C201709080449A  MW,8.2   NEAR COAST OF OAXACA, MEXICO  \n",
       "\n",
       "[186 rows x 10 columns]"
      ]
     },
     "execution_count": 105,
     "metadata": {},
     "output_type": "execute_result"
    }
   ],
   "source": [
    "df = pd.read_csv(\"SPUD_bundle_2023-03-28T14.29.00/Aftershocks_14211086/2017.09.08.04.49.EventsList.txt_copy.txt\", sep=\"|\", header=None)\n",
    "df"
   ]
  },
  {
   "cell_type": "code",
   "execution_count": 110,
   "id": "20e8ed78-eab5-46bc-bc53-e896817a1768",
   "metadata": {},
   "outputs": [
    {
     "ename": "KeyError",
     "evalue": "'9'",
     "output_type": "error",
     "traceback": [
      "\u001b[0;31m---------------------------------------------------------------------------\u001b[0m",
      "\u001b[0;31mKeyError\u001b[0m                                  Traceback (most recent call last)",
      "File \u001b[0;32m/opt/tljh/user/envs/coco/lib/python3.10/site-packages/pandas/core/indexes/base.py:3621\u001b[0m, in \u001b[0;36mIndex.get_loc\u001b[0;34m(self, key, method, tolerance)\u001b[0m\n\u001b[1;32m   3620\u001b[0m \u001b[38;5;28;01mtry\u001b[39;00m:\n\u001b[0;32m-> 3621\u001b[0m     \u001b[38;5;28;01mreturn\u001b[39;00m \u001b[38;5;28;43mself\u001b[39;49m\u001b[38;5;241;43m.\u001b[39;49m\u001b[43m_engine\u001b[49m\u001b[38;5;241;43m.\u001b[39;49m\u001b[43mget_loc\u001b[49m\u001b[43m(\u001b[49m\u001b[43mcasted_key\u001b[49m\u001b[43m)\u001b[49m\n\u001b[1;32m   3622\u001b[0m \u001b[38;5;28;01mexcept\u001b[39;00m \u001b[38;5;167;01mKeyError\u001b[39;00m \u001b[38;5;28;01mas\u001b[39;00m err:\n",
      "File \u001b[0;32m/opt/tljh/user/envs/coco/lib/python3.10/site-packages/pandas/_libs/index.pyx:136\u001b[0m, in \u001b[0;36mpandas._libs.index.IndexEngine.get_loc\u001b[0;34m()\u001b[0m\n",
      "File \u001b[0;32m/opt/tljh/user/envs/coco/lib/python3.10/site-packages/pandas/_libs/index.pyx:144\u001b[0m, in \u001b[0;36mpandas._libs.index.IndexEngine.get_loc\u001b[0;34m()\u001b[0m\n",
      "File \u001b[0;32mpandas/_libs/index_class_helper.pxi:41\u001b[0m, in \u001b[0;36mpandas._libs.index.Int64Engine._check_type\u001b[0;34m()\u001b[0m\n",
      "\u001b[0;31mKeyError\u001b[0m: '9'",
      "\nThe above exception was the direct cause of the following exception:\n",
      "\u001b[0;31mKeyError\u001b[0m                                  Traceback (most recent call last)",
      "Input \u001b[0;32mIn [110]\u001b[0m, in \u001b[0;36m<cell line: 1>\u001b[0;34m()\u001b[0m\n\u001b[0;32m----> 1\u001b[0m df[\u001b[38;5;124m\"\u001b[39m\u001b[38;5;124m9\u001b[39m\u001b[38;5;124m\"\u001b[39m] \u001b[38;5;241m=\u001b[39m \u001b[43mdf\u001b[49m\u001b[43m[\u001b[49m\u001b[38;5;124;43m\"\u001b[39;49m\u001b[38;5;124;43m9\u001b[39;49m\u001b[38;5;124;43m\"\u001b[39;49m\u001b[43m]\u001b[49m\u001b[38;5;241m.\u001b[39mreplace(\u001b[38;5;124m\"\u001b[39m\u001b[38;5;124m,\u001b[39m\u001b[38;5;124m\"\u001b[39m, \u001b[38;5;124m\"\u001b[39m\u001b[38;5;124m \u001b[39m\u001b[38;5;124m\"\u001b[39m)\n\u001b[1;32m      2\u001b[0m df\n",
      "File \u001b[0;32m/opt/tljh/user/envs/coco/lib/python3.10/site-packages/pandas/core/frame.py:3505\u001b[0m, in \u001b[0;36mDataFrame.__getitem__\u001b[0;34m(self, key)\u001b[0m\n\u001b[1;32m   3503\u001b[0m \u001b[38;5;28;01mif\u001b[39;00m \u001b[38;5;28mself\u001b[39m\u001b[38;5;241m.\u001b[39mcolumns\u001b[38;5;241m.\u001b[39mnlevels \u001b[38;5;241m>\u001b[39m \u001b[38;5;241m1\u001b[39m:\n\u001b[1;32m   3504\u001b[0m     \u001b[38;5;28;01mreturn\u001b[39;00m \u001b[38;5;28mself\u001b[39m\u001b[38;5;241m.\u001b[39m_getitem_multilevel(key)\n\u001b[0;32m-> 3505\u001b[0m indexer \u001b[38;5;241m=\u001b[39m \u001b[38;5;28;43mself\u001b[39;49m\u001b[38;5;241;43m.\u001b[39;49m\u001b[43mcolumns\u001b[49m\u001b[38;5;241;43m.\u001b[39;49m\u001b[43mget_loc\u001b[49m\u001b[43m(\u001b[49m\u001b[43mkey\u001b[49m\u001b[43m)\u001b[49m\n\u001b[1;32m   3506\u001b[0m \u001b[38;5;28;01mif\u001b[39;00m is_integer(indexer):\n\u001b[1;32m   3507\u001b[0m     indexer \u001b[38;5;241m=\u001b[39m [indexer]\n",
      "File \u001b[0;32m/opt/tljh/user/envs/coco/lib/python3.10/site-packages/pandas/core/indexes/base.py:3623\u001b[0m, in \u001b[0;36mIndex.get_loc\u001b[0;34m(self, key, method, tolerance)\u001b[0m\n\u001b[1;32m   3621\u001b[0m     \u001b[38;5;28;01mreturn\u001b[39;00m \u001b[38;5;28mself\u001b[39m\u001b[38;5;241m.\u001b[39m_engine\u001b[38;5;241m.\u001b[39mget_loc(casted_key)\n\u001b[1;32m   3622\u001b[0m \u001b[38;5;28;01mexcept\u001b[39;00m \u001b[38;5;167;01mKeyError\u001b[39;00m \u001b[38;5;28;01mas\u001b[39;00m err:\n\u001b[0;32m-> 3623\u001b[0m     \u001b[38;5;28;01mraise\u001b[39;00m \u001b[38;5;167;01mKeyError\u001b[39;00m(key) \u001b[38;5;28;01mfrom\u001b[39;00m \u001b[38;5;21;01merr\u001b[39;00m\n\u001b[1;32m   3624\u001b[0m \u001b[38;5;28;01mexcept\u001b[39;00m \u001b[38;5;167;01mTypeError\u001b[39;00m:\n\u001b[1;32m   3625\u001b[0m     \u001b[38;5;66;03m# If we have a listlike key, _check_indexing_error will raise\u001b[39;00m\n\u001b[1;32m   3626\u001b[0m     \u001b[38;5;66;03m#  InvalidIndexError. Otherwise we fall through and re-raise\u001b[39;00m\n\u001b[1;32m   3627\u001b[0m     \u001b[38;5;66;03m#  the TypeError.\u001b[39;00m\n\u001b[1;32m   3628\u001b[0m     \u001b[38;5;28mself\u001b[39m\u001b[38;5;241m.\u001b[39m_check_indexing_error(key)\n",
      "\u001b[0;31mKeyError\u001b[0m: '9'"
     ]
    }
   ],
   "source": [
    "df[\"9\"] = df[\"9\"].replace(\",\", \" \")\n",
    "df"
   ]
  },
  {
   "cell_type": "code",
   "execution_count": null,
   "id": "a51fff94-552e-492c-b870-87b467668a38",
   "metadata": {},
   "outputs": [],
   "source": []
  },
  {
   "cell_type": "code",
   "execution_count": null,
   "id": "f5ffa0d0-8acc-4028-b735-f726ab0ca2ed",
   "metadata": {},
   "outputs": [],
   "source": []
  }
 ],
 "metadata": {
  "kernelspec": {
   "display_name": "CoCo",
   "language": "python",
   "name": "coco"
  },
  "language_info": {
   "codemirror_mode": {
    "name": "ipython",
    "version": 3
   },
   "file_extension": ".py",
   "mimetype": "text/x-python",
   "name": "python",
   "nbconvert_exporter": "python",
   "pygments_lexer": "ipython3",
   "version": "3.10.4"
  }
 },
 "nbformat": 4,
 "nbformat_minor": 5
}

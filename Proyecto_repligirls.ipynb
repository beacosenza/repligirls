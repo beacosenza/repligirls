{
 "cells": [
  {
   "cell_type": "markdown",
   "id": "5a043042-501c-4f39-a99e-29c7dcafecad",
   "metadata": {},
   "source": [
    "# Estudio de evolución temporal de aftershocks"
   ]
  },
  {
   "cell_type": "markdown",
   "id": "7f392419-f2b7-4ee2-b966-d02cf0479712",
   "metadata": {},
   "source": [
    "Descripción del proyecto"
   ]
  },
  {
   "cell_type": "markdown",
   "id": "8ecbfd05-b248-4b25-ae76-4528b898c62e",
   "metadata": {},
   "source": [
    "1. Descargar los datos"
   ]
  },
  {
   "cell_type": "code",
   "execution_count": null,
   "id": "46f44f46-7fe7-4c7e-886f-eeec857b92b6",
   "metadata": {},
   "outputs": [],
   "source": []
  }
 ],
 "metadata": {
  "kernelspec": {
   "display_name": "CoCo",
   "language": "python",
   "name": "coco"
  },
  "language_info": {
   "codemirror_mode": {
    "name": "ipython",
    "version": 3
   },
   "file_extension": ".py",
   "mimetype": "text/x-python",
   "name": "python",
   "nbconvert_exporter": "python",
   "pygments_lexer": "ipython3",
   "version": "3.10.4"
  }
 },
 "nbformat": 4,
 "nbformat_minor": 5
}
